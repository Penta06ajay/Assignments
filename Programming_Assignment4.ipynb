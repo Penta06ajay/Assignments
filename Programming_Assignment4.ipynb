{
 "cells": [
  {
   "cell_type": "code",
   "execution_count": 3,
   "id": "55e35de5",
   "metadata": {},
   "outputs": [
    {
     "name": "stdout",
     "output_type": "stream",
     "text": [
      "Enter a number : 5\n",
      "\n",
      "Factorial of 5 is 120\n"
     ]
    }
   ],
   "source": [
    "#1. Write a Python Program to Find the Factorial of a Number?\n",
    "\n",
    "f = int(input(\"Enter a number : \"))\n",
    "res = 1\n",
    "for i in range(1,f+1):\n",
    "    res = res * i\n",
    "\n",
    "print(f\"\\nFactorial of {f} is {res}\")\n",
    "    "
   ]
  },
  {
   "cell_type": "code",
   "execution_count": 5,
   "id": "575e0fcf",
   "metadata": {},
   "outputs": [
    {
     "name": "stdout",
     "output_type": "stream",
     "text": [
      "Enter a number : 2\n",
      "2 * 1 = 2\n",
      "2 * 2 = 4\n",
      "2 * 3 = 6\n",
      "2 * 4 = 8\n",
      "2 * 5 = 10\n",
      "2 * 6 = 12\n",
      "2 * 7 = 14\n",
      "2 * 8 = 16\n",
      "2 * 9 = 18\n",
      "2 * 10 = 20\n"
     ]
    }
   ],
   "source": [
    "#2. Write a Python Program to Display the multiplication Table?\n",
    "\n",
    "num = int(input(\"Enter a number : \"))\n",
    "for i in range(1,11):\n",
    "    res = num * i\n",
    "    print(f\"{num} * {i} = {res}\")\n",
    "    "
   ]
  },
  {
   "cell_type": "code",
   "execution_count": 1,
   "id": "5ee6a19d",
   "metadata": {},
   "outputs": [
    {
     "name": "stdout",
     "output_type": "stream",
     "text": [
      "Enter the end number : 11\n",
      "0 1 1 2 3 5 8 13 21 34 55 "
     ]
    }
   ],
   "source": [
    "#3. Write a Python Program to Print the Fibonacci sequence?\n",
    "\n",
    "def fib(n):\n",
    "    a,b = 0,1\n",
    "    print(a,b , end = \" \")\n",
    "    for i in range(2,n):\n",
    "        c = a + b\n",
    "        a = b\n",
    "        b = c\n",
    "        print(c, end = \" \")\n",
    "\n",
    "\n",
    "num = int(input(\"Enter the end number : \"))\n",
    "fib(num)\n",
    "    "
   ]
  },
  {
   "cell_type": "code",
   "execution_count": 8,
   "id": "97c81050",
   "metadata": {},
   "outputs": [
    {
     "name": "stdout",
     "output_type": "stream",
     "text": [
      "Enter the number to check if it is armstrong or not : 407\n",
      "\n",
      "The number is armstrong number\n"
     ]
    }
   ],
   "source": [
    "#4. Write a Python Program to Check Armstrong Number?\n",
    "\n",
    "def check_arms(n):\n",
    "    res = 0\n",
    "    while n != 0:\n",
    "        n1 = n%10 \n",
    "        n = n//10\n",
    "        res = res + (n1**3)\n",
    "        \n",
    "    return res\n",
    "num = int(input(\"Enter the number to check if it is armstrong or not : \"))\n",
    "c = check_arms(num)\n",
    "if c == num:\n",
    "    print(\"\\nThe number is armstrong number\")\n",
    "else: \n",
    "    print(\"\\nThe number is not an armstrong number\")"
   ]
  },
  {
   "cell_type": "code",
   "execution_count": 10,
   "id": "28ef7a24",
   "metadata": {},
   "outputs": [
    {
     "name": "stdout",
     "output_type": "stream",
     "text": [
      "0 1 153 370 371 407 "
     ]
    }
   ],
   "source": [
    "#5. Write a Python Program to Find Armstrong Number in an Interval?\n",
    "\n",
    "def check_arms(n):\n",
    "    res = 0\n",
    "    while n != 0:\n",
    "        n1 = n%10 \n",
    "        n = n//10\n",
    "        res = res + (n1**3)\n",
    "        \n",
    "    return res\n",
    "\n",
    "for i in range(0,1000):\n",
    "    c = check_arms(i)\n",
    "    if c == i:\n",
    "        print(i, end = \" \")"
   ]
  },
  {
   "cell_type": "code",
   "execution_count": 11,
   "id": "ff357b7e",
   "metadata": {},
   "outputs": [
    {
     "name": "stdout",
     "output_type": "stream",
     "text": [
      "Enter the number : 50\n",
      "\n",
      "Sum of 50 numbers is 1275 \n"
     ]
    }
   ],
   "source": [
    "#6. Write a Python Program to Find the Sum of Natural Numbers?\n",
    "\n",
    "num = int(input(\"Enter the number : \"))\n",
    "\n",
    "sum = 0\n",
    "for i in range(1,num+1):\n",
    "    sum = sum + i\n",
    "\n",
    "print(f\"\\nSum of {num} numbers is {sum} \")"
   ]
  },
  {
   "cell_type": "code",
   "execution_count": null,
   "id": "17c3d93e",
   "metadata": {},
   "outputs": [],
   "source": []
  }
 ],
 "metadata": {
  "kernelspec": {
   "display_name": "Python 3 (ipykernel)",
   "language": "python",
   "name": "python3"
  },
  "language_info": {
   "codemirror_mode": {
    "name": "ipython",
    "version": 3
   },
   "file_extension": ".py",
   "mimetype": "text/x-python",
   "name": "python",
   "nbconvert_exporter": "python",
   "pygments_lexer": "ipython3",
   "version": "3.9.7"
  }
 },
 "nbformat": 4,
 "nbformat_minor": 5
}

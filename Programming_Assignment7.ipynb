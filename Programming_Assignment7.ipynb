{
 "cells": [
  {
   "cell_type": "code",
   "execution_count": 2,
   "id": "85d8d0c8",
   "metadata": {},
   "outputs": [
    {
     "name": "stdout",
     "output_type": "stream",
     "text": [
      "Sum of array is 196\n"
     ]
    }
   ],
   "source": [
    "#1. Write a Python Program to find sum of array?\n",
    "\n",
    "arr = [2,4,6,14,35,32,5,98]\n",
    "sum = 0\n",
    "for i in arr:\n",
    "    sum = sum + i\n",
    "\n",
    "print(f\"Sum of array is {sum}\")\n"
   ]
  },
  {
   "cell_type": "code",
   "execution_count": 4,
   "id": "4e8e68e5",
   "metadata": {},
   "outputs": [
    {
     "name": "stdout",
     "output_type": "stream",
     "text": [
      "Largest element in an array is 98\n"
     ]
    }
   ],
   "source": [
    "#2. Write a Python Program to find largest element in an array?\n",
    "\n",
    "arr = [2,4,6,14,35,32,5,98]\n",
    "\n",
    "large = arr[0]\n",
    "for i in range(1,len(arr)):\n",
    "    if arr[i] > large:\n",
    "        large = arr[i]\n",
    "\n",
    "print(f\"Largest element in an array is {large}\")"
   ]
  },
  {
   "cell_type": "code",
   "execution_count": 6,
   "id": "b1722dfc",
   "metadata": {},
   "outputs": [
    {
     "name": "stdout",
     "output_type": "stream",
     "text": [
      "[98, 5, 32, 35, 14, 6, 4, 2]\n"
     ]
    }
   ],
   "source": [
    "#3. Write a Python Program for array rotation?\n",
    "\n",
    "arr = [2,4,6,14,35,32,5,98]\n",
    "\n",
    "num = len(arr)\n",
    "while num > 0:\n",
    "    for i in range (0,num-1):\n",
    "        temp = arr[i]\n",
    "        arr[i] = arr[i+1]\n",
    "        arr[i+1] = temp\n",
    "    num = num - 1\n",
    "\n",
    "print(arr)\n"
   ]
  },
  {
   "cell_type": "code",
   "execution_count": 10,
   "id": "f504758b",
   "metadata": {},
   "outputs": [
    {
     "name": "stdout",
     "output_type": "stream",
     "text": [
      "[6, 14, 35, 32, 5, 98, 2, 4]\n"
     ]
    }
   ],
   "source": [
    "#4. Write a Python Program to Split the array and add the first part to the end?\n",
    "\n",
    "def splitarr(arr,n,part):\n",
    "    for i in range(0,part):\n",
    "        temp = arr[0]\n",
    "        for j in range(0,n-1):\n",
    "            arr[j] = arr[j+1]\n",
    "        arr[n-1] = temp\n",
    "\n",
    "arr = [2,4,6,14,35,32,5,98]\n",
    "n = len(arr)\n",
    "part = 2\n",
    "\n",
    "splitarr(arr,n,part)\n",
    "print(arr)"
   ]
  },
  {
   "cell_type": "code",
   "execution_count": 30,
   "id": "c69b9af9",
   "metadata": {},
   "outputs": [
    {
     "name": "stdout",
     "output_type": "stream",
     "text": [
      "True\n",
      "False\n"
     ]
    }
   ],
   "source": [
    "#5. Write a Python Program to check if given array is Monotonic?\n",
    "def monotonic(n):\n",
    "    increasing = False\n",
    "    if(n[0] < n[1]):\n",
    "        increasing = True\n",
    "    for i in range(0,len(n)-1):\n",
    "        if (n[i] > n[i+1] and increasing ) or (n[i] < n[i+1] and not increasing):\n",
    "            return False\n",
    "    return True  \n",
    "\n",
    "arr = [2,3,4,5,6,7,8]\n",
    "arr1 = [2,3,1,4,5,6]\n",
    "print(monotonic(arr))\n",
    "print(monotonic(arr1))\n",
    "\n",
    "    "
   ]
  },
  {
   "cell_type": "code",
   "execution_count": null,
   "id": "d6c40cab",
   "metadata": {},
   "outputs": [],
   "source": []
  },
  {
   "cell_type": "code",
   "execution_count": null,
   "id": "3b98c2ca",
   "metadata": {},
   "outputs": [],
   "source": []
  }
 ],
 "metadata": {
  "kernelspec": {
   "display_name": "Python 3 (ipykernel)",
   "language": "python",
   "name": "python3"
  },
  "language_info": {
   "codemirror_mode": {
    "name": "ipython",
    "version": 3
   },
   "file_extension": ".py",
   "mimetype": "text/x-python",
   "name": "python",
   "nbconvert_exporter": "python",
   "pygments_lexer": "ipython3",
   "version": "3.9.7"
  }
 },
 "nbformat": 4,
 "nbformat_minor": 5
}

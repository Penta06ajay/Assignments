{
 "cells": [
  {
   "cell_type": "raw",
   "id": "4614dfb0",
   "metadata": {},
   "source": [
    "1. Write a Python program to print \"Hello Python\"?"
   ]
  },
  {
   "cell_type": "code",
   "execution_count": 1,
   "id": "cebe9c58",
   "metadata": {},
   "outputs": [
    {
     "name": "stdout",
     "output_type": "stream",
     "text": [
      "Hello Pyhton\n"
     ]
    }
   ],
   "source": [
    "print(\"Hello Pyhton\")"
   ]
  },
  {
   "cell_type": "raw",
   "id": "b5bc944c",
   "metadata": {},
   "source": [
    "2. Write a Python program to do arithmetical operations addition and division.?"
   ]
  },
  {
   "cell_type": "code",
   "execution_count": 2,
   "id": "0d40282e",
   "metadata": {},
   "outputs": [
    {
     "name": "stdout",
     "output_type": "stream",
     "text": [
      "15\n",
      "2.0\n"
     ]
    }
   ],
   "source": [
    "a,b = 10,5\n",
    "print(a+b)\n",
    "print(a/b)"
   ]
  },
  {
   "cell_type": "raw",
   "id": "92472160",
   "metadata": {},
   "source": [
    "3. Write a Python program to find the area of a triangle?"
   ]
  },
  {
   "cell_type": "code",
   "execution_count": 7,
   "id": "a3c6473b",
   "metadata": {},
   "outputs": [
    {
     "name": "stdout",
     "output_type": "stream",
     "text": [
      "Enter the base of the triangle: 12\n",
      "\n",
      "Enter the height of the triangle: 12\n",
      "\n",
      "The Area of the triangle is 72.0.\n"
     ]
    }
   ],
   "source": [
    "b = eval(input(\"Enter the base of the triangle: \"))\n",
    "print()\n",
    "h = eval(input(\"Enter the height of the triangle: \"))\n",
    "print()\n",
    "A = 0.5 * b * h\n",
    "\n",
    "print(\"The Area of the triangle is {}.\".format(A))"
   ]
  },
  {
   "cell_type": "raw",
   "id": "dc4c3059",
   "metadata": {},
   "source": [
    "4. Write a Python program to swap two variables?"
   ]
  },
  {
   "cell_type": "code",
   "execution_count": 11,
   "id": "f67ec437",
   "metadata": {},
   "outputs": [
    {
     "name": "stdout",
     "output_type": "stream",
     "text": [
      "Before swapping a = 2 and b = 3\n",
      "\n",
      "After swapping a = 3 and b = 2\n"
     ]
    }
   ],
   "source": [
    "a = 2\n",
    "b = 3\n",
    "print(\"Before swapping a = {} and b = {}\".format(a,b))\n",
    "print()\n",
    "a = a+b\n",
    "b = a-b\n",
    "a = a-b\n",
    "\n",
    "print(\"After swapping a = {} and b = {}\".format(a,b))"
   ]
  },
  {
   "cell_type": "raw",
   "id": "815f91d0",
   "metadata": {},
   "source": [
    "5. Write a Python program to generate a random number?"
   ]
  },
  {
   "cell_type": "code",
   "execution_count": 18,
   "id": "31c5550b",
   "metadata": {},
   "outputs": [
    {
     "name": "stdout",
     "output_type": "stream",
     "text": [
      "6613716\n"
     ]
    }
   ],
   "source": [
    "from random import *\n",
    "\n",
    "print(randint(0,10000000))"
   ]
  },
  {
   "cell_type": "code",
   "execution_count": null,
   "id": "caa30301",
   "metadata": {},
   "outputs": [],
   "source": []
  }
 ],
 "metadata": {
  "kernelspec": {
   "display_name": "Python 3 (ipykernel)",
   "language": "python",
   "name": "python3"
  },
  "language_info": {
   "codemirror_mode": {
    "name": "ipython",
    "version": 3
   },
   "file_extension": ".py",
   "mimetype": "text/x-python",
   "name": "python",
   "nbconvert_exporter": "python",
   "pygments_lexer": "ipython3",
   "version": "3.9.7"
  }
 },
 "nbformat": 4,
 "nbformat_minor": 5
}

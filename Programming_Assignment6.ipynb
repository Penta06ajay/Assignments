{
 "cells": [
  {
   "cell_type": "code",
   "execution_count": 7,
   "id": "4e4c3d84",
   "metadata": {},
   "outputs": [
    {
     "name": "stdout",
     "output_type": "stream",
     "text": [
      "Enter the end term : 11\n",
      "0 1 1 2 3 5 8 13 21 34 55 "
     ]
    }
   ],
   "source": [
    "#1. Write a Python Program to Display Fibonacci Sequence Using Recursion?\n",
    "\n",
    "def fibo(num):\n",
    "    if num == 1:\n",
    "        return 0\n",
    "    if num == 2:\n",
    "        return 1\n",
    "    else:\n",
    "        return (fibo(num-1) + fibo(num-2))\n",
    "    \n",
    "    \n",
    "\n",
    "num = int(input(\"Enter the end term : \"))\n",
    "for i in range(1,num+1):\n",
    "    print(fibo(i),end = \" \")"
   ]
  },
  {
   "cell_type": "code",
   "execution_count": 15,
   "id": "d71ef8e8",
   "metadata": {},
   "outputs": [
    {
     "name": "stdout",
     "output_type": "stream",
     "text": [
      "Enter the term to find the factorial of : 5\n",
      "\n",
      "Factorial of 5 is 120\n"
     ]
    }
   ],
   "source": [
    "#2. Write a Python Program to Find Factorial of Number Using Recursion?\n",
    "\n",
    "def fact(num):\n",
    "    if num == 0:\n",
    "        return 1\n",
    "    return (num * fact(num - 1))\n",
    "\n",
    "num = int(input(\"Enter the term to find the factorial of : \"))\n",
    "result = fact(num)\n",
    "print(f\"\\nFactorial of {num} is {result}\")"
   ]
  },
  {
   "cell_type": "code",
   "execution_count": 19,
   "id": "1b7ec2b3",
   "metadata": {},
   "outputs": [
    {
     "name": "stdout",
     "output_type": "stream",
     "text": [
      "Enter the weight in kg : 60\n",
      "Enter the height in cms : 178\n",
      "Body mass index of the person is 18.93700290367378\n"
     ]
    }
   ],
   "source": [
    "#3. Write a Python Program to calculate your Body Mass Index?\n",
    "\n",
    "w = float(input(\"Enter the weight in kg : \"))\n",
    "h = float(input(\"Enter the height in cms : \"))\n",
    "\n",
    "BMI = (w/((h/100)*(h/100)))\n",
    "\n",
    "print(f\"Body mass index of the person is {BMI}\")"
   ]
  },
  {
   "cell_type": "code",
   "execution_count": 21,
   "id": "aed6e045",
   "metadata": {},
   "outputs": [
    {
     "name": "stdout",
     "output_type": "stream",
     "text": [
      "Enter the number : 10\n",
      "Natural log value of 10 is 2.302585092994046\n"
     ]
    }
   ],
   "source": [
    "##4. Write a Python Program to calculate the natural logarithm of any number?\n",
    "\n",
    "\n",
    "import math\n",
    "\n",
    "num = eval (input(\"Enter the number : \"))\n",
    "nat = math.log(num)\n",
    "print(f\"Natural log value of {num} is {nat}\")"
   ]
  },
  {
   "cell_type": "code",
   "execution_count": 22,
   "id": "c425178d",
   "metadata": {},
   "outputs": [
    {
     "name": "stdout",
     "output_type": "stream",
     "text": [
      "Enter the end term : 9\n",
      "cube sum of first 9 natural numbers is 2025\n"
     ]
    }
   ],
   "source": [
    "#5. Write a Python Program for cube sum of first n natural numbers?\n",
    "\n",
    "num = int(input(\"Enter the end term : \"))\n",
    "res = 0\n",
    "for i in range(1,num+1):\n",
    "    res = res + (i**3)\n",
    "\n",
    "print(f\"cube sum of first {num} natural numbers is {res}\")\n"
   ]
  },
  {
   "cell_type": "code",
   "execution_count": null,
   "id": "70df1247",
   "metadata": {},
   "outputs": [],
   "source": []
  }
 ],
 "metadata": {
  "kernelspec": {
   "display_name": "Python 3 (ipykernel)",
   "language": "python",
   "name": "python3"
  },
  "language_info": {
   "codemirror_mode": {
    "name": "ipython",
    "version": 3
   },
   "file_extension": ".py",
   "mimetype": "text/x-python",
   "name": "python",
   "nbconvert_exporter": "python",
   "pygments_lexer": "ipython3",
   "version": "3.9.7"
  }
 },
 "nbformat": 4,
 "nbformat_minor": 5
}

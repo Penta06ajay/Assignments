{
 "cells": [
  {
   "cell_type": "code",
   "execution_count": 6,
   "id": "ec42f0dd",
   "metadata": {},
   "outputs": [
    {
     "name": "stdout",
     "output_type": "stream",
     "text": [
      "Enter row size :2\n",
      "Enter col size :2\n",
      "Enter element arr1[0][0] : 1\n",
      "Enter element arr1[0][1] : 2\n",
      "Enter element arr1[1][0] : 3\n",
      "Enter element arr1[1][1] : 4\n",
      "Enter element arr2[0][0] : 5\n",
      "Enter element arr2[0][1] : 6\n",
      "Enter element arr2[1][0] : 7\n",
      "Enter element arr2[1][1] : 8\n",
      "addition of two matrices is [[6, 8], [10, 12]]\n"
     ]
    }
   ],
   "source": [
    "#1. Write a Python Program to Add Two Matrices?\n",
    "\n",
    "row = int(input(\"Enter row size :\"))\n",
    "col = int(input(\"Enter col size :\"))\n",
    "arr1 = []\n",
    "arr2 = []\n",
    "res = []\n",
    "for i in range(row):\n",
    "    t = []\n",
    "    for j in range(col):\n",
    "        val = int(input(f\"Enter element arr1{[i]}{[j]} : \"))\n",
    "        t.append(val)\n",
    "    arr1.append(t)\n",
    "\n",
    "for i in range(row):\n",
    "    t = []\n",
    "    for j in range(col):\n",
    "        val = int(input(f\"Enter element arr2{[i]}{[j]} : \"))\n",
    "        t.append(val)\n",
    "    arr2.append(t)\n",
    "    \n",
    "for i in range(row):\n",
    "    t = []\n",
    "    for j in range(col):\n",
    "        val = arr1[i][j] + arr2[i][j]\n",
    "        t.append(val)\n",
    "    res.append(t)\n",
    "\n",
    "print(f\"addition of two matrices is {res}\")"
   ]
  },
  {
   "cell_type": "code",
   "execution_count": 6,
   "id": "a2deb22d",
   "metadata": {},
   "outputs": [
    {
     "name": "stdout",
     "output_type": "stream",
     "text": [
      "Enter row size of 1st matrix :2\n",
      "Enter col size of 1st matrix :2\n",
      "Enter row size of 2st matrix :2\n",
      "Enter col size of 2st matrix :2\n",
      "Enter element arr1[0][0] : 1\n",
      "Enter element arr1[0][1] : 2\n",
      "Enter element arr1[1][0] : 3\n",
      "Enter element arr1[1][1] : 4\n",
      "Enter element arr2[0][0] : 5\n",
      "Enter element arr2[0][1] : 6\n",
      "Enter element arr2[1][0] : 7\n",
      "Enter element arr2[1][1] : 8\n",
      "After multiplication result is [[19, 22], [43, 50]]\n"
     ]
    }
   ],
   "source": [
    "#2. Write a Python Program to Multiply Two Matrices?\n",
    "\n",
    "row1 = int(input(\"Enter row size of 1st matrix :\"))\n",
    "col1 = int(input(\"Enter col size of 1st matrix :\"))\n",
    "row2 = int(input(\"Enter row size of 2st matrix :\"))\n",
    "col2 = int(input(\"Enter col size of 2st matrix :\"))\n",
    "arr1 = []\n",
    "arr2 = []\n",
    "res = []\n",
    "if col1 == row2:\n",
    "    for i in range(row1):\n",
    "        t = []\n",
    "        for j in range(col1):\n",
    "            val = int(input(f\"Enter element arr1{[i]}{[j]} : \"))\n",
    "            t.append(val)\n",
    "        arr1.append(t)\n",
    "\n",
    "    for i in range(row2):\n",
    "        t = []\n",
    "        for j in range(col2):\n",
    "            val = int(input(f\"Enter element arr2{[i]}{[j]} : \"))\n",
    "            t.append(val)\n",
    "        arr2.append(t)\n",
    "    \n",
    "\n",
    "    for i in range(col1):\n",
    "        t = []\n",
    "        for j in range(row2):\n",
    "            val = 0\n",
    "            for k in range(col1):\n",
    "                val = val + arr1[i][k] * arr2[k][j]\n",
    "            t.append(val)\n",
    "        res.append(t)\n",
    "    \n",
    "    print(f\"After multiplication result is {res}\")\n",
    "else:\n",
    "    print(\"Cannot multiply\")\n",
    "\n"
   ]
  },
  {
   "cell_type": "code",
   "execution_count": 7,
   "id": "306299cc",
   "metadata": {},
   "outputs": [
    {
     "name": "stdout",
     "output_type": "stream",
     "text": [
      "Enter row size :2\n",
      "Enter col size :2\n",
      "Enter element arr1[0][0] : 1\n",
      "Enter element arr1[0][1] : 2\n",
      "Enter element arr1[1][0] : 3\n",
      "Enter element arr1[1][1] : 4\n",
      "After transpose matrix is [[1, 3], [2, 4]]\n"
     ]
    }
   ],
   "source": [
    "#3. Write a Python Program to Transpose a Matrix?\n",
    "\n",
    "row = int(input(\"Enter row size :\"))\n",
    "col = int(input(\"Enter col size :\"))\n",
    "arr1 = []\n",
    "arr2 = []\n",
    "res = []\n",
    "for i in range(row):\n",
    "    t = []\n",
    "    for j in range(col):\n",
    "        val = int(input(f\"Enter element arr1{[i]}{[j]} : \"))\n",
    "        t.append(val)\n",
    "    arr1.append(t)\n",
    "\n",
    "for i in range(row):\n",
    "    t = []\n",
    "    for j in range(col):\n",
    "        val = arr1[j][i]\n",
    "        t.append(val)\n",
    "    res.append(t)\n",
    "    \n",
    "print(f\"After transpose matrix is {res}\")\n"
   ]
  },
  {
   "cell_type": "code",
   "execution_count": 18,
   "id": "9c75b62f",
   "metadata": {},
   "outputs": [
    {
     "name": "stdout",
     "output_type": "stream",
     "text": [
      "enter any word : word\n",
      "['w', 'o', 'r', 'd']\n",
      "output is : dorw\n"
     ]
    }
   ],
   "source": [
    "#4. Write a Python Program to Sort Words in Alphabetic Order?\n",
    "\n",
    "str = input(\"enter any word : \")\n",
    "\n",
    "str1 = []\n",
    "for i in str:\n",
    "    str1.append(i)\n",
    "print(str1)\n",
    "n = len(str1)\n",
    "while n != 0:\n",
    "    for i in range(0,n-1):\n",
    "        if ord(str1[i]) > ord(str1[i+1]):\n",
    "            temp = str1 [i]\n",
    "            str1[i] = str1[i+1]\n",
    "            str1[i+1] = temp\n",
    "    n = n - 1\n",
    "print(\"output is : \" + ''.join(str1))"
   ]
  },
  {
   "cell_type": "code",
   "execution_count": 19,
   "id": "dd40d99d",
   "metadata": {},
   "outputs": [
    {
     "name": "stdout",
     "output_type": "stream",
     "text": [
      "Enter any stringhello! how are you?\n",
      "hello how are you\n"
     ]
    }
   ],
   "source": [
    "#5. Write a Python Program to Remove Punctuation From a String?\n",
    "\n",
    "punctuation = \"\"\"!@#$%^&*(){}[];:'\"\\\"'\\|,.<>/?\"\"\"\n",
    "str = input(\"Enter any string\")\n",
    "no_punct = \"\"\n",
    "\n",
    "for i in str:\n",
    "    if i not in punctuation:\n",
    "        no_punct = no_punct + i\n",
    "\n",
    "print(no_punct)\n"
   ]
  },
  {
   "cell_type": "code",
   "execution_count": null,
   "id": "0dc9b697",
   "metadata": {},
   "outputs": [],
   "source": []
  }
 ],
 "metadata": {
  "kernelspec": {
   "display_name": "Python 3 (ipykernel)",
   "language": "python",
   "name": "python3"
  },
  "language_info": {
   "codemirror_mode": {
    "name": "ipython",
    "version": 3
   },
   "file_extension": ".py",
   "mimetype": "text/x-python",
   "name": "python",
   "nbconvert_exporter": "python",
   "pygments_lexer": "ipython3",
   "version": "3.9.7"
  }
 },
 "nbformat": 4,
 "nbformat_minor": 5
}

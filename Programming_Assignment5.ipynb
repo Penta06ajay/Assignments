{
 "cells": [
  {
   "cell_type": "code",
   "execution_count": 3,
   "id": "cf8ee808",
   "metadata": {},
   "outputs": [
    {
     "name": "stdout",
     "output_type": "stream",
     "text": [
      "Enter first number : 12\n",
      "Enter second number : 18\n",
      "\n",
      " LCM = 36\n"
     ]
    }
   ],
   "source": [
    "#1. Write a Python Program to Find LCM?\n",
    "\n",
    "def LCM(n1,n2):\n",
    "    if n1 > n2:\n",
    "        high = n1\n",
    "    else:\n",
    "        high = n2\n",
    "    \n",
    "    for i in range (1,100):\n",
    "        res = i * high\n",
    "        if res % n1 == 0 and res % n2 ==0:\n",
    "            print(f\"\\n LCM = {res}\")\n",
    "            break\n",
    "        else:\n",
    "            continue\n",
    "        break\n",
    "\n",
    "n1 = int(input(\"Enter first number : \"))\n",
    "n2 = int(input(\"Enter second number : \"))\n",
    "\n",
    "LCM(n1,n2)"
   ]
  },
  {
   "cell_type": "code",
   "execution_count": 5,
   "id": "f49dcf6b",
   "metadata": {},
   "outputs": [
    {
     "name": "stdout",
     "output_type": "stream",
     "text": [
      "Enter first number : 12\n",
      "Enter second number : 24\n",
      "\n",
      "HCF is 12\n"
     ]
    }
   ],
   "source": [
    "#2. Write a Python Program to Find HCF?\n",
    "\n",
    "def HCF(n1,n2):\n",
    "    if n1 < n2:\n",
    "        min = n1\n",
    "    else:\n",
    "        min = n2\n",
    "        \n",
    "    for i in range (1,min+1):      \n",
    "        if n1 % i == 0 and n2 % i == 0:\n",
    "            h = i\n",
    "    \n",
    "    print(f\"\\nHCF is {h}\")\n",
    "        \n",
    "\n",
    "n1 = int(input(\"Enter first number : \"))\n",
    "n2 = int(input(\"Enter second number : \"))\n",
    "\n",
    "HCF(n1,n2)"
   ]
  },
  {
   "cell_type": "code",
   "execution_count": 6,
   "id": "d6495cea",
   "metadata": {},
   "outputs": [
    {
     "name": "stdout",
     "output_type": "stream",
     "text": [
      "Enter a number : 10\n",
      "\n",
      " 10 in binary is 0b1010\n",
      "\n",
      " 10 in octal is 0o12\n",
      "\n",
      " 10 in hexadecimal is 0xa\n"
     ]
    }
   ],
   "source": [
    "#3. Write a Python Program to Convert Decimal to Binary, Octal and Hexadecimal?\n",
    "\n",
    "num = int(input(\"Enter a number : \"))\n",
    "\n",
    "print(f\"\\n {num} in binary is {bin(num)}\")\n",
    "print(f\"\\n {num} in octal is {oct(num)}\")\n",
    "print(f\"\\n {num} in hexadecimal is {hex(num)}\")"
   ]
  },
  {
   "cell_type": "code",
   "execution_count": 9,
   "id": "cb0461a9",
   "metadata": {},
   "outputs": [
    {
     "name": "stdout",
     "output_type": "stream",
     "text": [
      "Enter any character : A\n",
      "\n",
      "ASCII value of A is 65\n"
     ]
    }
   ],
   "source": [
    "#4. Write a Python Program To Find ASCII value of a character?\n",
    "\n",
    "char = input(\"Enter any character : \")\n",
    "\n",
    "print(f\"\\nASCII value of {char} is {ord(char)}\")"
   ]
  },
  {
   "cell_type": "code",
   "execution_count": 10,
   "id": "c6466e0b",
   "metadata": {},
   "outputs": [
    {
     "name": "stdout",
     "output_type": "stream",
     "text": [
      "Enter 1st number : 10\n",
      "Enter 2st number : 5\n",
      "\n",
      "addition is 15\n",
      "\n",
      "subtraction is 5\n",
      "\n",
      "multiplication is 50\n",
      "\n",
      "division is 2.0\n"
     ]
    }
   ],
   "source": [
    "#5. Write a Python Program to Make a Simple Calculator with 4 basic mathematical operations?\n",
    "\n",
    "def add(n1,n2):\n",
    "    print(f\"\\naddition is {n1+n2}\")\n",
    "    \n",
    "def sub(n1,n2):\n",
    "    print(f\"\\nsubtraction is {n1-n2}\")\n",
    "    \n",
    "def mul(n1,n2):\n",
    "    print(f\"\\nmultiplication is {n1*n2}\")\n",
    "\n",
    "def div(n1,n2):\n",
    "    print(f\"\\ndivision is {n1/n2}\")\n",
    "\n",
    "n1 = eval(input(\"Enter 1st number : \"))\n",
    "n2 = eval(input(\"Enter 2st number : \"))\n",
    "\n",
    "add(n1,n2)\n",
    "sub(n1,n2)\n",
    "mul(n1,n2)\n",
    "div(n1,n2)"
   ]
  },
  {
   "cell_type": "code",
   "execution_count": null,
   "id": "25c38da7",
   "metadata": {},
   "outputs": [],
   "source": []
  }
 ],
 "metadata": {
  "kernelspec": {
   "display_name": "Python 3 (ipykernel)",
   "language": "python",
   "name": "python3"
  },
  "language_info": {
   "codemirror_mode": {
    "name": "ipython",
    "version": 3
   },
   "file_extension": ".py",
   "mimetype": "text/x-python",
   "name": "python",
   "nbconvert_exporter": "python",
   "pygments_lexer": "ipython3",
   "version": "3.9.7"
  }
 },
 "nbformat": 4,
 "nbformat_minor": 5
}

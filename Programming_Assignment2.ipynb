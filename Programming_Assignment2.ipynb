{
 "cells": [
  {
   "cell_type": "code",
   "execution_count": 1,
   "id": "214c4c3f",
   "metadata": {},
   "outputs": [
    {
     "name": "stdout",
     "output_type": "stream",
     "text": [
      "Enter the distance (which will be in kms)5\n",
      "\n",
      "The distance in miles is 3.106855\n"
     ]
    }
   ],
   "source": [
    "##1. Write a Python program to convert kilometers to miles?\n",
    "\n",
    "a = eval(input(\"Enter the distance (which will be in kms)\"))\n",
    "\n",
    "miles = a*0.621371\n",
    "\n",
    "print(\"\\nThe distance in miles is {}\".format(miles))\n"
   ]
  },
  {
   "cell_type": "code",
   "execution_count": 2,
   "id": "fed74d40",
   "metadata": {},
   "outputs": [
    {
     "name": "stdout",
     "output_type": "stream",
     "text": [
      "Enter the temperature in Celsius2\n",
      "\n",
      "The temperature in fahrenheit is 35.6\n"
     ]
    }
   ],
   "source": [
    "##2. Write a Python program to convert Celsius to Fahrenheit?\n",
    "\n",
    "c = eval(input(\"Enter the temperature in Celsius\"))\n",
    "\n",
    "f= (c*(9/5)+32)\n",
    "\n",
    "print(\"\\nThe temperature in fahrenheit is {}\".format(f))"
   ]
  },
  {
   "cell_type": "code",
   "execution_count": 3,
   "id": "3e7f0318",
   "metadata": {},
   "outputs": [
    {
     "name": "stdout",
     "output_type": "stream",
     "text": [
      "Enter the year : 2022\n",
      "Enter the month : 5\n",
      "      May 2022\n",
      "Mo Tu We Th Fr Sa Su\n",
      "                   1\n",
      " 2  3  4  5  6  7  8\n",
      " 9 10 11 12 13 14 15\n",
      "16 17 18 19 20 21 22\n",
      "23 24 25 26 27 28 29\n",
      "30 31\n",
      "\n"
     ]
    }
   ],
   "source": [
    "##3. Write a Python program to display calendar?\n",
    "\n",
    "import calendar\n",
    "\n",
    "year = int(input(\"Enter the year : \"))\n",
    "month = int(input(\"Enter the month : \"))\n",
    "\n",
    "cal = calendar.month(year,month)\n",
    "\n",
    "print(cal)"
   ]
  },
  {
   "cell_type": "code",
   "execution_count": 6,
   "id": "3d87e22c",
   "metadata": {},
   "outputs": [
    {
     "name": "stdout",
     "output_type": "stream",
     "text": [
      "Enter the value of a (a != 0) : 5\n",
      "\n",
      "gEnter the value of b : 6\n",
      "\n",
      "Enter the value of c : 30\n",
      "\n",
      "Roots are (-0.6-2.3748684174075834j) and (-0.6+2.3748684174075834j)\n"
     ]
    }
   ],
   "source": [
    "##4. Write a Python program to solve quadratic equation?\n",
    "\n",
    "import cmath\n",
    "\n",
    "a = int(input(\"Enter the value of a (a != 0) : \"))\n",
    "b = int(input(\"\\ngEnter the value of b : \"))\n",
    "c = int(input(\"\\nEnter the value of c : \"))\n",
    "\n",
    "d = b**2 - 4*a*c\n",
    "\n",
    "sol1 = (-(b)-cmath.sqrt(d))/(2*a)\n",
    "sol2 = (-(b)+cmath.sqrt(d))/(2*a)\n",
    "\n",
    "print(f\"\\nRoots are {sol1} and {sol2}\")"
   ]
  },
  {
   "cell_type": "code",
   "execution_count": 9,
   "id": "16b3d4b1",
   "metadata": {},
   "outputs": [
    {
     "name": "stdout",
     "output_type": "stream",
     "text": [
      "Before swapping a = 4 and b = 5\n",
      "\n",
      "After swapping a = 5 and b = 4\n"
     ]
    }
   ],
   "source": [
    "##5. Write a Python program to swap two variables without temp variable?\n",
    "\n",
    "a = 4\n",
    "b = 5\n",
    "\n",
    "print(f\"Before swapping a = {a} and b = {b}\\n\")\n",
    "\n",
    "a = a*b\n",
    "b = a//b\n",
    "a= a//b\n",
    "\n",
    "print(f\"After swapping a = {a} and b = {b}\")"
   ]
  },
  {
   "cell_type": "code",
   "execution_count": null,
   "id": "ec642b08",
   "metadata": {},
   "outputs": [],
   "source": []
  }
 ],
 "metadata": {
  "kernelspec": {
   "display_name": "Python 3 (ipykernel)",
   "language": "python",
   "name": "python3"
  },
  "language_info": {
   "codemirror_mode": {
    "name": "ipython",
    "version": 3
   },
   "file_extension": ".py",
   "mimetype": "text/x-python",
   "name": "python",
   "nbconvert_exporter": "python",
   "pygments_lexer": "ipython3",
   "version": "3.9.7"
  }
 },
 "nbformat": 4,
 "nbformat_minor": 5
}
